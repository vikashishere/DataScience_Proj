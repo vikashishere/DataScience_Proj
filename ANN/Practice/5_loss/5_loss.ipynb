{
 "cells": [
  {
   "cell_type": "code",
   "execution_count": 1,
   "id": "lined-british",
   "metadata": {},
   "outputs": [],
   "source": [
    "import numpy as np\n",
    "\n",
    "\n",
    "y_predicted = np.array([1,1,0,0,1])\n",
    "y_true = np.array([0.30,0.7,1,0,0.5])"
   ]
  },
  {
   "cell_type": "markdown",
   "id": "champion-hartford",
   "metadata": {},
   "source": [
    "## Implement Mean Squared Error"
   ]
  },
  {
   "cell_type": "code",
   "execution_count": 29,
   "id": "sharp-holiday",
   "metadata": {},
   "outputs": [],
   "source": [
    "def mse(y_true,y_predicted):\n",
    "    total_error = 0\n",
    "    for yt,yp in zip(y_true,y_predicted):\n",
    "        total_error += (yt-yp)**2\n",
    "    print(f\"Squared Error is: {total_error}\")\n",
    "    MSE= total_error/len(y_true)\n",
    "    print(f\"Mean Squared Error is: {MSE}\")\n",
    "    return MSE"
   ]
  },
  {
   "cell_type": "code",
   "execution_count": 30,
   "id": "designed-implement",
   "metadata": {},
   "outputs": [
    {
     "name": "stdout",
     "output_type": "stream",
     "text": [
      "Squared Error is: 1.83\n",
      "Mean Squared Error is: 0.366\n"
     ]
    },
    {
     "data": {
      "text/plain": [
       "0.366"
      ]
     },
     "execution_count": 30,
     "metadata": {},
     "output_type": "execute_result"
    }
   ],
   "source": [
    "mse(y_predicted,y_true)"
   ]
  },
  {
   "cell_type": "markdown",
   "id": "hazardous-bottom",
   "metadata": {},
   "source": [
    "## By using numpy"
   ]
  },
  {
   "cell_type": "code",
   "execution_count": 36,
   "id": "cognitive-little",
   "metadata": {},
   "outputs": [
    {
     "data": {
      "text/plain": [
       "array([0.49, 0.09, 1.  , 0.  , 0.25])"
      ]
     },
     "execution_count": 36,
     "metadata": {},
     "output_type": "execute_result"
    }
   ],
   "source": [
    "\n",
    "Squared_err = (y_predicted-y_true)**2\n",
    "Squared_err"
   ]
  },
  {
   "cell_type": "code",
   "execution_count": 38,
   "id": "equipped-territory",
   "metadata": {},
   "outputs": [
    {
     "data": {
      "text/plain": [
       "0.366"
      ]
     },
     "execution_count": 38,
     "metadata": {},
     "output_type": "execute_result"
    }
   ],
   "source": [
    "sqe = np.mean(Squared_err)\n",
    "sqe"
   ]
  },
  {
   "cell_type": "code",
   "execution_count": null,
   "id": "governing-arnold",
   "metadata": {},
   "outputs": [],
   "source": []
  }
 ],
 "metadata": {
  "kernelspec": {
   "display_name": "Python 3",
   "language": "python",
   "name": "python3"
  },
  "language_info": {
   "codemirror_mode": {
    "name": "ipython",
    "version": 3
   },
   "file_extension": ".py",
   "mimetype": "text/x-python",
   "name": "python",
   "nbconvert_exporter": "python",
   "pygments_lexer": "ipython3",
   "version": "3.9.0"
  }
 },
 "nbformat": 4,
 "nbformat_minor": 5
}
