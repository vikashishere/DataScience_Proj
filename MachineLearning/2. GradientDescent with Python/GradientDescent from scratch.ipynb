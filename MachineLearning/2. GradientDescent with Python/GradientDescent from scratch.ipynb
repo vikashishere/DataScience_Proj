{
 "cells": [
  {
   "cell_type": "code",
   "execution_count": 1,
   "id": "convertible-investment",
   "metadata": {},
   "outputs": [],
   "source": [
    "import numpy as np"
   ]
  },
  {
   "cell_type": "code",
   "execution_count": 2,
   "id": "honest-greece",
   "metadata": {},
   "outputs": [],
   "source": [
    "def gradient_descent(x,y):\n",
    "    m_curr = b_curr = 0\n",
    "    iterations = 10\n",
    "    n = len(x)\n",
    "    learning_rate = 0.001\n",
    "\n",
    "    for i in range(iterations):\n",
    "        yp = m_curr * x + b_curr\n",
    "        cost = (1/n) * sum(val**2 for val in (y-yp))\n",
    "        md = -(2/n) * sum(x*(y-yp))\n",
    "        bd = -(2/n) * sum(y-yp)\n",
    "        m_curr = m_curr - learning_rate * md\n",
    "        b_curr = b_curr - learning_rate * bd\n",
    "        print(\"m{}, b{}, cost{}\".format(m_curr, b_curr, cost, i))\n",
    "    pass\n"
   ]
  },
  {
   "cell_type": "code",
   "execution_count": 3,
   "id": "animal-savings",
   "metadata": {},
   "outputs": [],
   "source": [
    "x= np.array([1,2,3,4,5])\n",
    "y= np.array([5,7,9,11,13])"
   ]
  },
  {
   "cell_type": "code",
   "execution_count": 4,
   "id": "twenty-cleaners",
   "metadata": {},
   "outputs": [
    {
     "name": "stdout",
     "output_type": "stream",
     "text": [
      "m0.062, b0.018000000000000002, cost89.0\n",
      "m0.122528, b0.035592000000000006, cost84.881304\n",
      "m0.181618832, b0.052785648000000004, cost80.955185108544\n",
      "m0.239306503808, b0.069590363712, cost77.21263768455901\n",
      "m0.29562421854195203, b0.086015343961728, cost73.64507722605434\n",
      "m0.35060439367025875, b0.10206956796255283, cost70.2443206760065\n",
      "m0.40427867960173774, b0.11776180246460617, cost67.00256764921804\n",
      "m0.4566779778357119, b0.13310060678206653, cost63.912382537082294\n",
      "m0.5078324586826338, b0.14809433770148814, cost60.966677449199324\n",
      "m0.5577715785654069, b0.16275115427398937, cost58.15869595270883\n"
     ]
    }
   ],
   "source": [
    "gradient_descent(x,y)"
   ]
  },
  {
   "cell_type": "code",
   "execution_count": null,
   "id": "rational-regulation",
   "metadata": {},
   "outputs": [],
   "source": []
  }
 ],
 "metadata": {
  "kernelspec": {
   "display_name": "Python 3",
   "language": "python",
   "name": "python3"
  },
  "language_info": {
   "codemirror_mode": {
    "name": "ipython",
    "version": 3
   },
   "file_extension": ".py",
   "mimetype": "text/x-python",
   "name": "python",
   "nbconvert_exporter": "python",
   "pygments_lexer": "ipython3",
   "version": "3.9.0"
  }
 },
 "nbformat": 4,
 "nbformat_minor": 5
}
